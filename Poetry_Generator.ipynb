{
 "cells": [
  {
   "cell_type": "code",
   "execution_count": 1,
   "id": "initial_id",
   "metadata": {
    "collapsed": true,
    "ExecuteTime": {
     "end_time": "2024-07-15T08:21:06.009478Z",
     "start_time": "2024-07-15T08:21:05.615389Z"
    }
   },
   "outputs": [],
   "source": [
    "import numpy as np\n",
    "import string"
   ]
  },
  {
   "cell_type": "code",
   "outputs": [],
   "source": [
    "np.random.seed(1234)"
   ],
   "metadata": {
    "collapsed": false,
    "ExecuteTime": {
     "end_time": "2024-07-15T08:21:12.339415Z",
     "start_time": "2024-07-15T08:21:12.330450Z"
    }
   },
   "id": "fc2aefff7683d2f6",
   "execution_count": 2
  },
  {
   "cell_type": "code",
   "outputs": [],
   "source": [
    "initial = {} # start of the phrase\n",
    "first_order = {} # second word only\n",
    "second_order = {}"
   ],
   "metadata": {
    "collapsed": false,
    "ExecuteTime": {
     "end_time": "2024-07-15T08:21:34.864349Z",
     "start_time": "2024-07-15T08:21:34.859039Z"
    }
   },
   "id": "ce4bdb7802843cd7",
   "execution_count": 3
  },
  {
   "cell_type": "code",
   "outputs": [],
   "source": [
    "def remove_punctuation(s):\n",
    "    return s.translate(str.maketrans('', '', string.punctuation))\n"
   ],
   "metadata": {
    "collapsed": false,
    "ExecuteTime": {
     "end_time": "2024-07-15T08:22:13.535164Z",
     "start_time": "2024-07-15T08:22:13.528923Z"
    }
   },
   "id": "982db22d0dc138fc",
   "execution_count": 5
  },
  {
   "cell_type": "code",
   "outputs": [
    {
     "name": "stdout",
     "output_type": "stream",
     "text": [
      "File is already downloaded.\n"
     ]
    }
   ],
   "source": [
    "import os\n",
    "\n",
    "if not os.path.exists('robert_frost.txt'):\n",
    "    !wget -nc https://raw.githubusercontent.com/lazyprogrammer/machine_learning_examples/master/hmm_class/robert_frost.txt\n",
    "else:\n",
    "    print('File is already downloaded.')"
   ],
   "metadata": {
    "collapsed": false,
    "ExecuteTime": {
     "end_time": "2024-07-15T08:24:46.211210Z",
     "start_time": "2024-07-15T08:24:46.207067Z"
    }
   },
   "id": "442a8bef937c2d3e",
   "execution_count": 6
  },
  {
   "cell_type": "code",
   "outputs": [],
   "source": [
    "def add2dict(d, k, v):\n",
    "    if k not in d:\n",
    "        d[k] = []\n",
    "    d[k].append(v)"
   ],
   "metadata": {
    "collapsed": false,
    "ExecuteTime": {
     "end_time": "2024-07-15T08:25:18.523550Z",
     "start_time": "2024-07-15T08:25:18.518112Z"
    }
   },
   "id": "83f7c25ab9239444",
   "execution_count": 7
  },
  {
   "cell_type": "code",
   "outputs": [],
   "source": [
    "for line in open('robert_frost.txt'):\n",
    "    tokens = remove_punctuation(line.rstrip().lower()).split()\n",
    "    \n",
    "    T = len(tokens)\n",
    "    for i in range(T):\n",
    "        t = tokens[i]\n",
    "        if i == 0:\n",
    "            # measure the distribution of the first word\n",
    "            initial[t] = initial.get(t, 0.) + 1\n",
    "        else:\n",
    "            t_1 = tokens[i-1]\n",
    "            if i == T - 1:\n",
    "                # measure probability of ending the line\n",
    "                add2dict(second_order, (t_1, t), 'END')\n",
    "            if i == 1:\n",
    "                # measure distribution of second word\n",
    "                add2dict(first_order, t_1, t)\n",
    "            else:\n",
    "                t_2 = tokens[i-2]\n",
    "                add2dict(second_order, (t_2, t_1), t)"
   ],
   "metadata": {
    "collapsed": false,
    "ExecuteTime": {
     "end_time": "2024-07-15T08:52:18.297609Z",
     "start_time": "2024-07-15T08:52:18.255723Z"
    }
   },
   "id": "6ebc200c9385af59",
   "execution_count": 8
  },
  {
   "cell_type": "markdown",
   "source": [],
   "metadata": {
    "collapsed": false
   },
   "id": "cfa50d25c01bbd07"
  },
  {
   "cell_type": "code",
   "outputs": [],
   "source": [
    "# normalize the distributions\n",
    "initial_total = sum(initial.values())\n",
    "for t, c in initial.items():\n",
    "    initial[t] = c / initial_total"
   ],
   "metadata": {
    "collapsed": false,
    "ExecuteTime": {
     "end_time": "2024-07-15T08:55:05.349551Z",
     "start_time": "2024-07-15T08:55:05.340616Z"
    }
   },
   "id": "477f117a5815baf3",
   "execution_count": 9
  },
  {
   "cell_type": "code",
   "outputs": [],
   "source": [
    "# Convert [cat, cat, cat, dog, dog, dog, mouse, ... ]\n",
    "# into { cat: 0.5, dog: 0.5, mouse: 0.1, ... }\n",
    "\n",
    "def list2pdict(ts):\n",
    "    # Turn each list of possibilities into a dictionary to probabilities\n",
    "    d = {}\n",
    "    n = len(ts)\n",
    "    for t in ts:\n",
    "        d[t] = d.get(t, 0.) + 1\n",
    "    for t, c in d.items():\n",
    "        d[t] = c/n\n",
    "    return d"
   ],
   "metadata": {
    "collapsed": false,
    "ExecuteTime": {
     "end_time": "2024-07-15T09:13:13.036834Z",
     "start_time": "2024-07-15T09:13:12.991927Z"
    }
   },
   "id": "6065f5d10b98c7ae",
   "execution_count": 10
  },
  {
   "cell_type": "code",
   "outputs": [],
   "source": [
    "for t_1, ts in first_order.items():\n",
    "    # Replace list with dictionary of probabilities\n",
    "    first_order[t_1] = list2pdict(ts)"
   ],
   "metadata": {
    "collapsed": false,
    "ExecuteTime": {
     "end_time": "2024-07-15T09:25:00.802571Z",
     "start_time": "2024-07-15T09:25:00.795072Z"
    }
   },
   "id": "7446a55dcc190428",
   "execution_count": 11
  },
  {
   "cell_type": "code",
   "outputs": [],
   "source": [
    "for k, ts, in second_order.items():\n",
    "    second_order[k] = list2pdict(ts)"
   ],
   "metadata": {
    "collapsed": false,
    "ExecuteTime": {
     "end_time": "2024-07-15T09:25:16.237473Z",
     "start_time": "2024-07-15T09:25:16.229852Z"
    }
   },
   "id": "9ca4d1827314864e",
   "execution_count": 12
  },
  {
   "cell_type": "code",
   "outputs": [],
   "source": [
    "def sample_word(d):\n",
    "    p0 = np.random.random()\n",
    "    cumulative = 0\n",
    "    for t, p in d.items():\n",
    "        cumulative += p\n",
    "        if p0 < cumulative:\n",
    "            return t\n",
    "    assert False\n",
    "\n",
    "            "
   ],
   "metadata": {
    "collapsed": false,
    "ExecuteTime": {
     "end_time": "2024-07-15T09:28:27.664818Z",
     "start_time": "2024-07-15T09:28:27.660848Z"
    }
   },
   "id": "f9700e4aaeae8753",
   "execution_count": 14
  },
  {
   "cell_type": "code",
   "outputs": [],
   "source": [
    "def generate():\n",
    "    for i in range(4):\n",
    "        sentence = []\n",
    "        \n",
    "        # initial word\n",
    "        w0 = sample_word(initial)\n",
    "        sentence.append(w0)\n",
    "        \n",
    "        # sample second word\n",
    "        w1 = sample_word(first_order[w0])\n",
    "        sentence.append(w1)\n",
    "        \n",
    "        # second-order transitions until END\n",
    "        while True:\n",
    "            w2 = sample_word(second_order[(w0, w1)])\n",
    "            if w2 == 'END':\n",
    "                break\n",
    "            sentence.append(w2)\n",
    "            w0 = w1\n",
    "            w1 = w2\n",
    "        print(' '.join(sentence))"
   ],
   "metadata": {
    "collapsed": false,
    "ExecuteTime": {
     "end_time": "2024-07-15T09:59:57.677488Z",
     "start_time": "2024-07-15T09:59:57.672879Z"
    }
   },
   "id": "1d8a042ff09575a2",
   "execution_count": 16
  },
  {
   "cell_type": "code",
   "outputs": [
    {
     "name": "stdout",
     "output_type": "stream",
     "text": [
      "dyou know a person so related to herself\n",
      "you take the polish off the ground\n",
      "no i dont follow you\n",
      "in leaves no step had trodden black\n"
     ]
    }
   ],
   "source": [
    "generate()"
   ],
   "metadata": {
    "collapsed": false,
    "ExecuteTime": {
     "end_time": "2024-07-15T10:03:11.988210Z",
     "start_time": "2024-07-15T10:03:11.980014Z"
    }
   },
   "id": "4bd6e27b9aaa4e3e",
   "execution_count": 20
  },
  {
   "cell_type": "code",
   "outputs": [],
   "source": [],
   "metadata": {
    "collapsed": false,
    "ExecuteTime": {
     "end_time": "2024-07-15T10:03:08.864065Z",
     "start_time": "2024-07-15T10:03:08.846469Z"
    }
   },
   "id": "a7ac2045ee66cb01",
   "execution_count": 19
  },
  {
   "cell_type": "code",
   "outputs": [],
   "source": [],
   "metadata": {
    "collapsed": false
   },
   "id": "38cbd2285157338a"
  }
 ],
 "metadata": {
  "kernelspec": {
   "display_name": "Python 3",
   "language": "python",
   "name": "python3"
  },
  "language_info": {
   "codemirror_mode": {
    "name": "ipython",
    "version": 2
   },
   "file_extension": ".py",
   "mimetype": "text/x-python",
   "name": "python",
   "nbconvert_exporter": "python",
   "pygments_lexer": "ipython2",
   "version": "2.7.6"
  }
 },
 "nbformat": 4,
 "nbformat_minor": 5
}
