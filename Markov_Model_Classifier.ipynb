{
 "cells": [
  {
   "cell_type": "code",
   "execution_count": 2,
   "id": "initial_id",
   "metadata": {
    "collapsed": true,
    "ExecuteTime": {
     "end_time": "2024-07-11T12:52:19.233385Z",
     "start_time": "2024-07-11T12:52:19.218290Z"
    }
   },
   "outputs": [],
   "source": [
    "import os\n",
    "\n",
    "if not os.path.exists('edgar_allan_poe.txt'):\n",
    "    !wget -nc https://raw.githubusercontent.com/lazyprogrammer/machine_learning_examples/master/hmm_class/edgar_allan_poe.txt\n",
    "\n",
    "if not os.path.exists('robert_frost.txt'):\n",
    "    !wget -nc https://raw.githubusercontent.com/lazyprogrammer/machine_learning_examples/master/hmm_class/robert_frost.txt\n",
    "\n"
   ]
  },
  {
   "cell_type": "code",
   "outputs": [],
   "source": [
    "import numpy as np\n",
    "import matplotlib.pyplot as plt\n",
    "import string\n",
    "from sklearn.model_selection import train_test_split"
   ],
   "metadata": {
    "collapsed": false,
    "ExecuteTime": {
     "end_time": "2024-07-11T12:52:23.230966Z",
     "start_time": "2024-07-11T12:52:19.235956Z"
    }
   },
   "id": "2e45c753f173762a",
   "execution_count": 3
  },
  {
   "cell_type": "code",
   "outputs": [],
   "source": [
    "input_files = [\n",
    "    'edgar_allan_poe.txt',\n",
    "    'robert_frost.txt'\n",
    "]"
   ],
   "metadata": {
    "collapsed": false,
    "ExecuteTime": {
     "end_time": "2024-07-11T12:52:23.238217Z",
     "start_time": "2024-07-11T12:52:23.231692Z"
    }
   },
   "id": "5ba208483c37ad5d",
   "execution_count": 4
  },
  {
   "cell_type": "code",
   "outputs": [
    {
     "name": "stdout",
     "output_type": "stream",
     "text": [
      "LO! Death hath rear'd himself a throne\r\n",
      "In a strange city, all alone,\r\n",
      "Far down within the dim west\r\n",
      "Where the good, and the bad, and the worst, and the best,\r\n",
      "Have gone to their eternal rest.\r\n",
      " \r\n",
      "There shrines, and palaces, and towers\r\n",
      "Are not like any thing of ours\r\n",
      "Oh no! O no! ours never loom\r\n",
      "To heaven with that ungodly gloom!\r\n"
     ]
    }
   ],
   "source": [
    "!head edgar_allan_poe.txt"
   ],
   "metadata": {
    "collapsed": false,
    "ExecuteTime": {
     "end_time": "2024-07-11T12:52:23.362257Z",
     "start_time": "2024-07-11T12:52:23.235346Z"
    }
   },
   "id": "f8f4e7f6f0b254d7",
   "execution_count": 5
  },
  {
   "cell_type": "code",
   "outputs": [
    {
     "name": "stdout",
     "output_type": "stream",
     "text": [
      "Two roads diverged in a yellow wood,\r\n",
      "And sorry I could not travel both\r\n",
      "And be one traveler, long I stood\r\n",
      "And looked down one as far as I could\r\n",
      "To where it bent in the undergrowth; \r\n",
      "\r\n",
      "Then took the other, as just as fair,\r\n",
      "And having perhaps the better claim\r\n",
      "Because it was grassy and wanted wear,\r\n",
      "Though as for that the passing there\r\n"
     ]
    }
   ],
   "source": [
    "!head robert_frost.txt"
   ],
   "metadata": {
    "collapsed": false,
    "ExecuteTime": {
     "end_time": "2024-07-11T12:52:23.485346Z",
     "start_time": "2024-07-11T12:52:23.365126Z"
    }
   },
   "id": "deb3b6a57f35a63",
   "execution_count": 6
  },
  {
   "cell_type": "code",
   "outputs": [
    {
     "name": "stdout",
     "output_type": "stream",
     "text": [
      "edgar_allan_poe.txt corresponds to label 0\n",
      "robert_frost.txt corresponds to label 1\n"
     ]
    }
   ],
   "source": [
    "# Collect data into lists\n",
    "input_texts = []\n",
    "labels = []\n",
    "\n",
    "for label, f in enumerate(input_files):\n",
    "    print(f\"{f} corresponds to label {label}\")\n",
    "    \n",
    "    for line in open(f):\n",
    "        line = line.rstrip().lower()\n",
    "        if line:\n",
    "            # Remove punctuation\n",
    "            line = line.translate(str.maketrans('', '', string.punctuation))\n",
    "            input_texts.append(line)\n",
    "            labels.append(label)"
   ],
   "metadata": {
    "collapsed": false,
    "ExecuteTime": {
     "end_time": "2024-07-11T12:52:23.502376Z",
     "start_time": "2024-07-11T12:52:23.487047Z"
    }
   },
   "id": "e82566fb3d1af06a",
   "execution_count": 7
  },
  {
   "cell_type": "code",
   "outputs": [],
   "source": [
    "train_text, test_text, y_train, y_test = train_test_split(input_texts, labels)"
   ],
   "metadata": {
    "collapsed": false,
    "ExecuteTime": {
     "end_time": "2024-07-11T12:52:23.503788Z",
     "start_time": "2024-07-11T12:52:23.500892Z"
    }
   },
   "id": "3c323aba51ea790b",
   "execution_count": 8
  },
  {
   "cell_type": "code",
   "outputs": [
    {
     "data": {
      "text/plain": "(1615, 539)"
     },
     "execution_count": 9,
     "metadata": {},
     "output_type": "execute_result"
    }
   ],
   "source": [
    "len(y_train), len(y_test)"
   ],
   "metadata": {
    "collapsed": false,
    "ExecuteTime": {
     "end_time": "2024-07-11T12:52:23.534088Z",
     "start_time": "2024-07-11T12:52:23.507063Z"
    }
   },
   "id": "459597f56429058d",
   "execution_count": 9
  },
  {
   "cell_type": "code",
   "outputs": [
    {
     "data": {
      "text/plain": "['who wouldst not leave him in his wandering',\n 'our flowers are merely flowers',\n 'how daring an ambition yet how deep',\n 'one level higher than the earth below',\n 'to stand together on the craters verge']"
     },
     "execution_count": 10,
     "metadata": {},
     "output_type": "execute_result"
    }
   ],
   "source": [
    "train_text[:5]"
   ],
   "metadata": {
    "collapsed": false,
    "ExecuteTime": {
     "end_time": "2024-07-11T12:52:23.535329Z",
     "start_time": "2024-07-11T12:52:23.511006Z"
    }
   },
   "id": "db3f1aac13d3081a",
   "execution_count": 10
  },
  {
   "cell_type": "code",
   "outputs": [
    {
     "data": {
      "text/plain": "[0, 0, 0, 1, 1]"
     },
     "execution_count": 11,
     "metadata": {},
     "output_type": "execute_result"
    }
   ],
   "source": [
    "y_train[:5]"
   ],
   "metadata": {
    "collapsed": false,
    "ExecuteTime": {
     "end_time": "2024-07-11T12:52:23.535928Z",
     "start_time": "2024-07-11T12:52:23.515015Z"
    }
   },
   "id": "552c66f404b47f72",
   "execution_count": 11
  },
  {
   "cell_type": "code",
   "outputs": [],
   "source": [
    "idx = 1\n",
    "word2idx = {'<unk>': 0}"
   ],
   "metadata": {
    "collapsed": false,
    "ExecuteTime": {
     "end_time": "2024-07-11T12:52:23.536538Z",
     "start_time": "2024-07-11T12:52:23.520894Z"
    }
   },
   "id": "b4f3ee9f443d6520",
   "execution_count": 12
  },
  {
   "cell_type": "code",
   "outputs": [],
   "source": [
    "# Populate word2idx\n",
    "\n",
    "for text in train_text:\n",
    "    tokens = text.split()\n",
    "    for token in tokens:\n",
    "        if token not in word2idx:\n",
    "            word2idx[token] = idx\n",
    "            idx += 1\n",
    "        "
   ],
   "metadata": {
    "collapsed": false,
    "ExecuteTime": {
     "end_time": "2024-07-11T12:52:23.536980Z",
     "start_time": "2024-07-11T12:52:23.523456Z"
    }
   },
   "id": "7a16e1740bddf56f",
   "execution_count": 13
  },
  {
   "cell_type": "code",
   "outputs": [
    {
     "data": {
      "text/plain": "{'<unk>': 0,\n 'who': 1,\n 'wouldst': 2,\n 'not': 3,\n 'leave': 4,\n 'him': 5,\n 'in': 6,\n 'his': 7,\n 'wandering': 8,\n 'our': 9,\n 'flowers': 10,\n 'are': 11,\n 'merely': 12,\n 'how': 13,\n 'daring': 14,\n 'an': 15,\n 'ambition': 16,\n 'yet': 17,\n 'deep': 18,\n 'one': 19,\n 'level': 20,\n 'higher': 21,\n 'than': 22,\n 'the': 23,\n 'earth': 24,\n 'below': 25,\n 'to': 26,\n 'stand': 27,\n 'together': 28,\n 'on': 29,\n 'craters': 30,\n 'verge': 31,\n 'take': 32,\n 'it': 33,\n 'year': 34,\n 'out': 35,\n 'he': 36,\n 'doesnt': 37,\n 'make': 38,\n 'much': 39,\n 'up': 40,\n 'attic': 41,\n 'mother': 42,\n 'because': 43,\n 'was': 44,\n 'grassy': 45,\n 'and': 46,\n 'wanted': 47,\n 'wear': 48,\n 'nor': 49,\n 'grannys': 50,\n 'surely': 51,\n 'call': 52,\n 'of': 53,\n 'them': 54,\n 'old': 55,\n 'cellar': 56,\n 'hole': 57,\n 'a': 58,\n 'byroad': 59,\n 'off': 60,\n 'here': 61,\n 'hands': 62,\n 'men': 63,\n 'talk': 64,\n 'had': 65,\n 'been': 66,\n 'serious': 67,\n 'sober': 68,\n 'luminary': 69,\n 'clock': 70,\n 'against': 71,\n 'sky': 72,\n 'at': 73,\n 'least': 74,\n 'pass': 75,\n 'by': 76,\n 'see': 77,\n 'for': 78,\n 'we': 79,\n 'knew': 80,\n 'month': 81,\n 'october': 82,\n 'wearing': 83,\n 'its': 84,\n 'own': 85,\n 'feeling': 86,\n 'as': 87,\n 'crown': 88,\n 'door': 89,\n 'or': 90,\n 'hall': 91,\n 'son': 92,\n 'but': 93,\n 'headboard': 94,\n 'mothers': 95,\n 'bed': 96,\n 'is': 97,\n 'pushed': 98,\n 'brown': 99,\n 'makes': 100,\n 'such': 101,\n 'hour': 102,\n 'night': 103,\n 'pauses': 104,\n 'heaven': 105,\n 'were': 106,\n 'seen': 107,\n 'no': 108,\n 'more': 109,\n 'very': 110,\n 'roses': 111,\n 'odors': 112,\n 'something': 113,\n 'theres': 114,\n 'harm': 115,\n 'there': 116,\n 'saw': 117,\n 'only': 118,\n 'until': 119,\n 'moon': 120,\n 'went': 121,\n 'down': 122,\n 'i': 123,\n 'cant': 124,\n 'explain': 125,\n 'any': 126,\n 'other': 127,\n 'way': 128,\n 'feared': 129,\n 'cold': 130,\n 'serenest': 131,\n 'skies': 132,\n 'continually': 133,\n 'stopped': 134,\n 'tomb': 135,\n 'lets': 136,\n 'about': 137,\n 'all': 138,\n 'lost': 139,\n 'himself': 140,\n 'tongue': 141,\n 'fire': 142,\n 'have': 143,\n 'looked': 144,\n 'saddest': 145,\n 'city': 146,\n 'lane': 147,\n 'breathe': 148,\n 'incense': 149,\n 'those': 150,\n 'slumbering': 151,\n 'lonesome': 152,\n 'never': 153,\n 'softmurmured': 154,\n 'words': 155,\n 'that': 156,\n 'fulfilled': 157,\n 'ill': 158,\n 'tell': 159,\n 'you': 160,\n 'what': 161,\n 'voices': 162,\n 'really': 163,\n 'say': 164,\n 'conquered': 165,\n 'her': 166,\n 'scruples': 167,\n 'gloom': 168,\n 'bones': 169,\n 'grave': 170,\n 'less': 171,\n 'us': 172,\n 'if': 173,\n 'youre': 174,\n 'enough': 175,\n 'find': 176,\n 'yourself': 177,\n 'with': 178,\n 'fervor': 179,\n 'thy': 180,\n 'lute': 181,\n 'whats': 182,\n 'where': 183,\n 'fingerpieces': 184,\n 'slid': 185,\n 'directions': 186,\n 'thats': 187,\n 'why': 188,\n 'decently': 189,\n 'refuse': 190,\n 'nonsense': 191,\n 'she': 192,\n 'done': 193,\n 'started': 194,\n 'courting': 195,\n 'me': 196,\n 'faintest': 197,\n 'restless': 198,\n 'rustling': 199,\n 'ran': 200,\n 'through': 201,\n 'shes': 202,\n 'let': 203,\n 'worry': 204,\n 'stood': 205,\n 'strain': 206,\n 'hes': 207,\n 'nothing': 208,\n 'listen': 209,\n 'when': 210,\n 'lean': 211,\n 'like': 212,\n 'this': 213,\n 'want': 214,\n 'spoke': 215,\n 'doubts': 216,\n 'every': 217,\n 'open': 218,\n 'place': 219,\n 'dont': 220,\n 'spend': 221,\n 'outdoors': 222,\n 'spirit': 223,\n 'communing': 224,\n 'angels': 225,\n 'high': 226,\n 'tone': 227,\n 'which': 228,\n 'hath': 229,\n 'striven': 230,\n 'paused': 231,\n 'rested': 232,\n 'sort': 233,\n 'hook': 234,\n 'grass': 235,\n 'o': 236,\n 'may': 237,\n 'thrive': 238,\n 'talkedof': 239,\n 'mystery': 240,\n 'birth': 241,\n 'clouds': 242,\n 'low': 243,\n 'trailing': 244,\n 'moments': 245,\n 'rain': 246,\n 'misted': 247,\n 'legended': 248,\n 'whod': 249,\n 'marry': 250,\n 'straight': 251,\n 'mess': 252,\n 'get': 253,\n 'some': 254,\n 'color': 255,\n 'music': 256,\n 'life': 257,\n 'however': 258,\n 'natural': 259,\n 'give': 260,\n 'your': 261,\n 'books': 262,\n 'strangely': 263,\n 'anything': 264,\n 'they': 265,\n 'wish': 266,\n 'nausicaa': 267,\n 'unafraid': 268,\n 'each': 269,\n 'before': 270,\n 'then': 271,\n 'bid': 272,\n 'town': 273,\n 'guessed': 274,\n 'theyd': 275,\n 'know': 276,\n 'put': 277,\n 'worth': 278,\n 'lifes': 279,\n 'while': 280,\n 'wake': 281,\n 'sport': 282,\n 'hens': 283,\n 'blowing': 284,\n 'im': 285,\n 'anywhere': 286,\n 'send': 287,\n 'sailing': 288,\n 'window': 289,\n 'sought': 290,\n 'precipitate': 291,\n 'pathway': 292,\n 'always': 293,\n 'chimneys': 294,\n 'false': 295,\n 'travellers': 296,\n 'now': 297,\n 'within': 298,\n 'valley': 299,\n 'upon': 300,\n 'longer': 301,\n 'axis': 302,\n 'though': 303,\n 'slight': 304,\n 'demand': 305,\n 'felt': 306,\n 'tug': 307,\n 'spoiled': 308,\n 'day': 309,\n 'began': 310,\n 'uncertain': 311,\n 'tempted': 312,\n 'ancestral': 313,\n 'memories': 314,\n 'might': 315,\n 'come': 316,\n 'fear': 317,\n 'treading': 318,\n 'bout': 319,\n 'took': 320,\n 'long': 321,\n 'home': 322,\n 'lap': 323,\n 'fade': 324,\n 'beyond': 325,\n 'shattered': 326,\n 'seedpod': 327,\n 'my': 328,\n 'founts': 329,\n 'bliss': 330,\n 'passionate': 331,\n 'light': 332,\n 'fit': 333,\n 'lavas': 334,\n 'restlessly': 335,\n 'roll': 336,\n 'snapped': 337,\n 'eyes': 338,\n 'three': 339,\n 'times': 340,\n 'unusual': 341,\n 'strings': 342,\n 'from': 343,\n 'their': 344,\n 'melancholy': 345,\n 'throats': 346,\n 'break': 347,\n 'job': 348,\n 'did': 349,\n 'once': 350,\n 'time': 351,\n 'graveyard': 352,\n 'marble': 353,\n 'sculpture': 354,\n 'weather': 355,\n 'leaves': 356,\n 'withering': 357,\n 'sere': 358,\n 'so': 359,\n 'suddenly': 360,\n 'flung': 361,\n 'wide': 362,\n 'bewitched': 363,\n 'would': 364,\n 'last': 365,\n 'springs': 366,\n 'neer': 367,\n 'flow': 368,\n 'gems': 369,\n 'thought': 370,\n 'turn': 371,\n 'owe': 372,\n 'thee': 373,\n 'most': 374,\n 'whose': 375,\n 'gratitude': 376,\n 'gone': 377,\n 'remembered': 378,\n 'dank': 379,\n 'tarn': 380,\n 'auber': 381,\n 'little': 382,\n 'tin': 383,\n 'box': 384,\n 'cupboard': 385,\n 'shelf': 386,\n 'wait': 387,\n 'hand': 388,\n 'stirred': 389,\n 'abysses': 390,\n 'heart': 391,\n 'lying': 392,\n 'die': 393,\n 'arisen': 394,\n 'lightning': 395,\n 'scribble': 396,\n 'said': 397,\n 'youd': 398,\n 'stone': 399,\n 'baptismal': 400,\n 'font': 401,\n 'wed': 402,\n 'kept': 403,\n 'these': 404,\n 'years': 405,\n 'between': 406,\n 'ourselves': 407,\n 'sleep': 408,\n 'furthest': 409,\n 'bodies': 410,\n 'ungodly': 411,\n 'ever': 412,\n 'again': 413,\n 'stay': 414,\n 'sometimes': 415,\n 'half': 416,\n 'looking': 417,\n 'orchid': 418,\n 'calypso': 419,\n 'blushes': 420,\n 'love': 421,\n 'after': 422,\n 'barkless': 423,\n 'spectre': 424,\n 'halted': 425,\n 'too': 426,\n 'well—i—be—': 427,\n 'daylight': 428,\n 'beauty': 429,\n 'comes': 430,\n 'softly': 431,\n 'rattling': 432,\n 'girl': 433,\n 'will': 434,\n 'tatters': 435,\n 'hung': 436,\n 'barb': 437,\n 'thorn': 438,\n 'hate': 439,\n 'think': 440,\n 'sing': 441,\n 'wildly': 442,\n 'well': 443,\n 'allowed': 444,\n 'upside': 445,\n 'live': 446,\n 'pull': 447,\n 'apart': 448,\n 'thus': 449,\n 'memory': 450,\n 'winter': 451,\n 'halfpast': 452,\n 'adding': 453,\n 'frost': 454,\n 'snow': 455,\n 'end': 456,\n 'path': 457,\n 'liquescent': 458,\n 'strung': 459,\n 'hair': 460,\n 'wont': 461,\n 'hurt': 462,\n 'summer': 463,\n 'looks': 464,\n 'angel': 465,\n 'trod': 466,\n 'going': 467,\n 'be': 468,\n 'just': 469,\n 'red': 470,\n 'levin': 471,\n 'wonder': 472,\n 'signals': 473,\n 'bad': 474,\n 'married': 475,\n 'chance': 476,\n 'fanes': 477,\n 'babylonlike': 478,\n 'walls': 479,\n 'kinsman': 480,\n 'luminous': 481,\n 'beside': 482,\n 'trade': 483,\n 'mark': 484,\n 'front': 485,\n 'id': 486,\n 'left': 487,\n 'hitched': 488,\n 'unthoughtlike': 489,\n 'thoughts': 490,\n 'souls': 491,\n 'hadnt': 492,\n 'suspected': 493,\n 'witchs': 494,\n 'motto': 495,\n 'anyway': 496,\n 'dark': 497,\n 'woe': 498,\n 'sublime': 499,\n 'hope': 500,\n 'wild': 501,\n 'apple': 502,\n 'trees': 503,\n 'young': 504,\n 'tender': 505,\n 'bark': 506,\n 'gold': 507,\n 'can': 508,\n 'shall': 509,\n 'lies': 510,\n 'charred': 511,\n 'john': 512,\n 'threw': 513,\n 'didnt': 514,\n 'enter': 515,\n 'mans': 516,\n 'father': 517,\n 'killed': 518,\n 'sorry': 519,\n 'could': 520,\n 'travel': 521,\n 'both': 522,\n 'manner': 523,\n 'stock': 524,\n 'till': 525,\n 'cottages': 526,\n 'found': 527,\n 'oer': 528,\n 'bright': 529,\n 'island': 530,\n 'smile': 531,\n 'garden': 532,\n 'ground': 533,\n 'riches': 534,\n 'lie': 535,\n 'man': 536,\n 'do': 537,\n 'age': 538,\n 'situation': 539,\n 'road': 540,\n 'follow': 541,\n 'lead': 542,\n 'good': 543,\n 'stardials': 544,\n 'pointed': 545,\n 'morn': 546,\n 'has': 547,\n 'past': 548,\n 'stars': 549,\n 'lion': 550,\n 'isnt': 551,\n 'hell': 552,\n 'fell': 553,\n 'upturnd': 554,\n 'faces': 555,\n 'still': 556,\n 'cousins': 557,\n 'early': 558,\n 'mormons': 559,\n 'made': 560,\n 'settlement': 561,\n 'keep': 562,\n 'track': 563,\n 'peoples': 564,\n 'daughters': 565,\n 'please': 566,\n 'bells': 567,\n 'ah': 568,\n 'poetess': 569,\n 'wrote': 570,\n 'book': 571,\n 'verses': 572,\n 'office': 573,\n 'illumine': 574,\n 'enkindle': 575,\n 'desperate': 576,\n 'energy': 577,\n 't': 578,\n 'beaten': 579,\n 'late': 580,\n 'wouldnt': 581,\n 'vacuum': 582,\n 'filmy': 583,\n 'dropped': 584,\n 'everything': 585,\n 'child': 586,\n 'remember': 587,\n 'rightly': 588,\n 'sprung': 589,\n 'glass': 590,\n 'oh': 591,\n 'fly': 592,\n 'must': 593,\n 'believe': 594,\n 'fraught': 595,\n 'arms': 596,\n 'knees': 597,\n 'uttered': 598,\n 'alone': 599,\n 'skeleton': 600,\n 'governor': 601,\n 'proclaimed': 602,\n 'braced': 603,\n 'feet': 604,\n 'arctic': 605,\n 'pole': 606,\n 'should': 607,\n 'shouldnt': 608,\n 'many': 609,\n 'havent': 610,\n 'name': 611,\n 'domes': 612,\n 'spires': 613,\n 'kingly': 614,\n 'halls': 615,\n 'silver': 616,\n 'under': 617,\n 'shelter': 618,\n 'family': 619,\n 'tree': 620,\n 'am': 621,\n 'sure': 622,\n 'werent': 623,\n 'amid': 624,\n 'earthly': 625,\n 'moans': 626,\n 'small': 627,\n 'skiff': 628,\n 'ago': 629,\n 'ralle': 630,\n 'sioux': 631,\n 'control': 632,\n 'told': 633,\n 'seems': 634,\n 'housework': 635,\n 'besides': 636,\n 'sancta': 637,\n 'maria': 638,\n 'thine': 639,\n 'suspect': 640,\n 'being': 641,\n 'cut': 642,\n 'friends': 643,\n 'difference': 644,\n 'affairs': 645,\n 'soul': 646,\n 'whom': 647,\n 'absence': 648,\n 'driven': 649,\n 'hamadryad': 650,\n 'wood': 651,\n 'dite': 652,\n 'comfort': 653,\n 'twas': 654,\n 'money': 655,\n 'push': 656,\n 'victories': 657,\n 'doubt': 658,\n 'master': 659,\n 'grange': 660,\n 'alas': 661,\n 'magical': 662,\n 'sad': 663,\n 'sound': 664,\n 'dead': 665,\n 'does': 666,\n 'look': 667,\n 'admiring': 668,\n 'natures': 669,\n 'universal': 670,\n 'throne': 671,\n 'things': 672,\n 'blotting': 673,\n 'utterly': 674,\n 'marked': 675,\n 'cannot': 676,\n 'guide': 677,\n 'aright': 678,\n 'two': 679,\n 'rule': 680,\n 'arm': 681,\n 'new': 682,\n 'fountains': 683,\n 'overflow': 684,\n 'point': 685,\n 'demon': 686,\n 'twenty': 687,\n 'others': 688,\n 'wriggling': 689,\n 'speed': 690,\n 'begin': 691,\n 'over': 692,\n 'shed': 693,\n 'better': 694,\n 'stop': 695,\n 'skyhigh': 696,\n 'realms': 697,\n 'boreal': 698,\n 'johns': 699,\n 'almost': 700,\n 'ive': 701,\n 'eye': 702,\n 'someone': 703,\n 'since': 704,\n 'flickers': 705,\n 'along': 706,\n 'hourly': 707,\n 'above': 708,\n 'coming': 709,\n 'myself': 710,\n 'tried': 711,\n 'improve': 712,\n 'tile': 713,\n 'grandsir': 714,\n 'stark': 715,\n 'distinctly': 716,\n 'whether': 717,\n 'pearly': 718,\n 'lustre': 719,\n 'drawn': 720,\n 'into': 721,\n 'common': 722,\n 'table': 723,\n 'rear': 724,\n 'perhaps': 725,\n 'hear': 726,\n 'word': 727,\n 'clad': 728,\n 'white': 729,\n 'violet': 730,\n 'bank': 731,\n 'air': 732,\n 'ride': 733,\n 'ultimate': 734,\n 'climes': 735,\n 'cheeks': 736,\n 'worm': 737,\n 'dies': 738,\n 'toffile': 739,\n 'nails': 740,\n 'nail': 741,\n 'shut': 742,\n 'house': 743,\n 'renewed': 744,\n 'paint': 745,\n 'surpassing': 746,\n 'help': 747,\n 'alder': 748,\n 'swamp': 749,\n 'stones': 750,\n 'bushes': 751,\n 'unretrieved': 752,\n 'fever': 753,\n 'moonbeam': 754,\n 'hangs': 755,\n 'entablatures': 756,\n 'intertwine': 757,\n 'doubted': 758,\n 'back': 759,\n 'throw': 760,\n 'bare': 761,\n 'legs': 762,\n 'giddy': 763,\n 'legends': 764,\n 'doth': 765,\n 'particular': 766,\n 'oclock': 767,\n 'stifling': 768,\n 'hot': 769,\n 'odor': 770,\n 'sap': 771,\n 'leg': 772,\n 'crutch': 773,\n 'pearl': 774,\n 'ruby': 775,\n 'glowing': 776,\n 'pens': 777,\n 'thrills': 778,\n 'baubles': 779,\n 'sulphurous': 780,\n 'currents': 781,\n 'yaanek': 782,\n 'grown': 783,\n 'woods': 784,\n 'around': 785,\n 'strangeness': 786,\n 'smoke': 787,\n 'rolled': 788,\n 'inside': 789,\n 'sockets': 790,\n 'sun': 791,\n 'dew': 792,\n 'awake': 793,\n 'tis': 794,\n 'symbol': 795,\n 'token': 796,\n 'alley': 797,\n 'titanic': 798,\n 'ready': 799,\n 'outsiders': 800,\n 'beloved': 801,\n 'earnest': 802,\n 'woes': 803,\n 'dawn': 804,\n 'goes': 805,\n 'sat': 806,\n 'floor': 807,\n 'shouted': 808,\n 'lifts': 809,\n 'existence': 810,\n 'plane': 811,\n 'sparkling': 812,\n 'evermore': 813,\n 'living': 814,\n 'couldnt': 815,\n 'aint': 816,\n 'roads': 817,\n 'diverged': 818,\n 'yellow': 819,\n 'scenes': 820,\n 'departed': 821,\n 'sigmas': 822,\n 'taus': 823,\n 'despairs': 824,\n 'unhallowed': 825,\n 'death': 826,\n 'happy': 827,\n 'clime': 828,\n 'mounted': 829,\n 'bareback': 830,\n 'smoothlaid': 831,\n 'thatch': 832,\n 'heavy': 833,\n 'stillgoing': 834,\n 'joints': 835,\n 'creaking': 836,\n 'buggy': 837,\n 'load': 838,\n 'grain': 839,\n 'first': 840,\n 'eddy': 841,\n 'toppling': 842,\n 'weak': 843,\n 'even': 844,\n 'standing': 845,\n 'kitchen': 846,\n 'chimney': 847,\n 'quickening': 848,\n 'spell': 849,\n 'monarch': 850,\n 'dominion': 851,\n 'towers': 852,\n 'cypress': 853,\n 'psyche': 854,\n 'banking': 855,\n 'leases': 856,\n 'got': 857,\n 'hay': 858,\n 'rained': 859,\n 'agreed': 860,\n 'heartstrings': 861,\n 'world': 862,\n 'except': 863,\n 'seemed': 864,\n 'poetesss': 865,\n 'poems': 866,\n 'birds': 867,\n 'joined': 868,\n 'excited': 869,\n 'fun': 870,\n 'truly': 871,\n 'ashen': 872,\n 'strange': 873,\n 'harpstring': 874,\n 'broken': 875,\n 'trembled': 876,\n 'surest': 877,\n 'thing': 878,\n 'riders': 879,\n 'israfelis': 880,\n 'gentle': 881,\n 'dallied': 882,\n 'boy': 883,\n 'card': 884,\n 'seem': 885,\n 'mad': 886,\n 'pride': 887,\n 'intellectuality': 888,\n 'burning': 889,\n 'measures': 890,\n 'suit': 891,\n 'fine': 892,\n 'fibrils': 893,\n 'dispose': 894,\n 'either': 895,\n 'holy': 896,\n 'rays': 897,\n 'odorous': 898,\n 'ecstatic': 899,\n 'estelles': 900,\n 'neednt': 901,\n 'unfortunately': 902,\n 'kind': 903,\n 'thinks': 904,\n 'fingerbone': 905,\n 'cosmic': 906,\n 'motes': 907,\n 'distinct': 908,\n 'duplicate': 909,\n 'horn': 910,\n 'vow': 911,\n 'near': 912,\n 'round': 913,\n 'sitting': 914,\n 'matter': 915,\n 'repeatedly': 916,\n 'strove': 917,\n 'burned': 918,\n 'stake': 919,\n 'duty': 920,\n 'waters': 921,\n 'watering': 922,\n 'motorcars': 923,\n 'asked': 924,\n 'treacherous': 925,\n 'having': 926,\n 'noted': 927,\n 'witch': 928,\n 'crisped': 929,\n 'member': 930,\n 'shudder': 931,\n 'notes': 932,\n 'power': 933,\n 'wants': 934,\n 'news': 935,\n 'dreadful': 936,\n 'fool': 937,\n 'cloud': 938,\n 'strolled': 939,\n 'thither': 940,\n 'expecting': 941,\n 'save': 942,\n 'albeit': 943,\n 'soared': 944,\n 'undaunted': 945,\n 'wing': 946,\n 'moment': 947,\n 'given': 948,\n 'opening': 949,\n 'builder': 950,\n 'building': 951,\n 'journeyed': 952,\n 'course': 953,\n 'oho': 954,\n 'profanation': 955,\n 'same': 956,\n 'fast': 957,\n 'ashes': 958,\n 'whence': 959,\n 'spring': 960,\n 'grow': 961,\n 'swear': 962,\n 'away': 963,\n 'awful': 964,\n 'gilt': 965,\n 'show': 966,\n 'iron': 967,\n 'wagon': 968,\n 'wheels': 969,\n 'bear': 970,\n 'relish': 971,\n 'sorrowfully': 972,\n 'trailed': 973,\n 'dust': 974,\n 'houses': 975,\n 'rights': 976,\n 'right': 977,\n 'temptation': 978,\n 'sight': 979,\n 'hours': 980,\n 'thou': 981,\n 'ghost': 982,\n 'entombing': 983,\n 'rockstrewn': 984,\n 'farming': 985,\n 'fallen': 986,\n 'ridiculous': 987,\n 'prove': 988,\n 'girdle': 989,\n 'came': 990,\n 'cart': 991,\n 'pair': 992,\n 'go': 993,\n 'mowing': 994,\n 'field': 995,\n 'wonted': 996,\n 'bolder': 997,\n 'note': 998,\n 'swell': 999,\n ...}"
     },
     "execution_count": 14,
     "metadata": {},
     "output_type": "execute_result"
    }
   ],
   "source": [
    "word2idx"
   ],
   "metadata": {
    "collapsed": false,
    "ExecuteTime": {
     "end_time": "2024-07-11T12:52:23.578821Z",
     "start_time": "2024-07-11T12:52:23.538754Z"
    }
   },
   "id": "9038180bd27b847c",
   "execution_count": 14
  },
  {
   "cell_type": "code",
   "outputs": [
    {
     "data": {
      "text/plain": "2557"
     },
     "execution_count": 15,
     "metadata": {},
     "output_type": "execute_result"
    }
   ],
   "source": [
    "len(word2idx)"
   ],
   "metadata": {
    "collapsed": false,
    "ExecuteTime": {
     "end_time": "2024-07-11T12:52:23.586492Z",
     "start_time": "2024-07-11T12:52:23.543744Z"
    }
   },
   "id": "35e3e978ca536712",
   "execution_count": 15
  },
  {
   "cell_type": "code",
   "outputs": [],
   "source": [
    "# Convert data into integer format\n",
    "train_text_int = []\n",
    "test_text_int = []\n",
    "\n",
    "for text in train_text:\n",
    "    tokens = text.split()\n",
    "    line_as_int = [word2idx[token] for token in tokens]\n",
    "    train_text_int.append(line_as_int)\n",
    "\n",
    "for text in test_text:\n",
    "    tokens = text.split()\n",
    "    line_as_int = [word2idx.get(token, 0) for token in tokens]\n",
    "    test_text_int.append(line_as_int)\n",
    "    "
   ],
   "metadata": {
    "collapsed": false,
    "ExecuteTime": {
     "end_time": "2024-07-11T12:52:23.587417Z",
     "start_time": "2024-07-11T12:52:23.552425Z"
    }
   },
   "id": "8c3c143b72d5b1be",
   "execution_count": 16
  },
  {
   "cell_type": "code",
   "outputs": [
    {
     "data": {
      "text/plain": "[[378, 3, 23, 379, 380, 53, 381],\n [23, 382, 383, 384, 29, 23, 385, 386],\n [93, 387, 119, 123, 260, 160, 58, 388, 40],\n [143, 389, 343, 35, 23, 390, 53, 7, 391],\n [392, 122, 26, 393, 143, 360, 394]]"
     },
     "execution_count": 17,
     "metadata": {},
     "output_type": "execute_result"
    }
   ],
   "source": [
    "train_text_int[100:105]"
   ],
   "metadata": {
    "collapsed": false,
    "ExecuteTime": {
     "end_time": "2024-07-11T12:52:23.589724Z",
     "start_time": "2024-07-11T12:52:23.555769Z"
    }
   },
   "id": "c6ec4e442ee8e1c5",
   "execution_count": 17
  },
  {
   "cell_type": "code",
   "outputs": [],
   "source": [
    "# Initialize A and pi matrices for both classes\n",
    "V = len(word2idx)\n",
    "\n",
    "A0 = np.ones((V, V))\n",
    "pi0 = np.ones(V)\n",
    "\n",
    "A1 = np.ones((V, V))\n",
    "pi1 = np.ones(V)"
   ],
   "metadata": {
    "collapsed": false,
    "ExecuteTime": {
     "end_time": "2024-07-11T12:52:23.632382Z",
     "start_time": "2024-07-11T12:52:23.560594Z"
    }
   },
   "id": "cd4f3351410202a",
   "execution_count": 18
  },
  {
   "cell_type": "code",
   "outputs": [],
   "source": [
    "# Compute counts for A and pi\n",
    "def compute_counts(text_as_int, A, pi):\n",
    "    for tokens in text_as_int:\n",
    "        last_idx = None\n",
    "        for idx in tokens:\n",
    "            if last_idx is None:\n",
    "                pi[idx] += 1\n",
    "            else:\n",
    "                A[last_idx, idx] += 1\n",
    "            \n",
    "            # Update last idx\n",
    "            last_idx = idx"
   ],
   "metadata": {
    "collapsed": false,
    "ExecuteTime": {
     "end_time": "2024-07-11T12:52:23.633283Z",
     "start_time": "2024-07-11T12:52:23.575709Z"
    }
   },
   "id": "873aa966aeac51d0",
   "execution_count": 19
  },
  {
   "cell_type": "code",
   "outputs": [],
   "source": [
    "compute_counts([t for t, y in zip(train_text_int, y_train) if y == 0], A0, pi0)\n",
    "compute_counts([t for t, y in zip(train_text_int, y_train) if y == 1], A1, pi1)"
   ],
   "metadata": {
    "collapsed": false,
    "ExecuteTime": {
     "end_time": "2024-07-11T12:52:23.634242Z",
     "start_time": "2024-07-11T12:52:23.583882Z"
    }
   },
   "id": "f7eb660e333d0e4e",
   "execution_count": 20
  },
  {
   "cell_type": "code",
   "outputs": [],
   "source": [
    "# Normalize A and pi so they are valid probability matrices\n",
    "# Convince your self that this is equivalent to the formulas shown before\n",
    "A0 /= A0.sum(axis=1, keepdims=True)\n",
    "pi0 /= pi0.sum()\n",
    "\n",
    "A1 /= A1.sum(axis=1, keepdims=True)\n",
    "pi1 /= pi1.sum()"
   ],
   "metadata": {
    "collapsed": false,
    "ExecuteTime": {
     "end_time": "2024-07-11T12:52:23.636491Z",
     "start_time": "2024-07-11T12:52:23.588707Z"
    }
   },
   "id": "5bf6dc16f7cb4b0b",
   "execution_count": 21
  },
  {
   "cell_type": "code",
   "outputs": [],
   "source": [
    "# Log A and pi since we don't need the actual probs\n",
    "log_A0 = np.log(A0)\n",
    "log_pi0 = np.log(pi0)\n",
    "\n",
    "log_A1 = np.log(A1)\n",
    "log_pi1 = np.log(pi1)"
   ],
   "metadata": {
    "collapsed": false,
    "ExecuteTime": {
     "end_time": "2024-07-11T12:52:23.659113Z",
     "start_time": "2024-07-11T12:52:23.605379Z"
    }
   },
   "id": "a1deff95ccf71c99",
   "execution_count": 22
  },
  {
   "cell_type": "code",
   "outputs": [
    {
     "data": {
      "text/plain": "(0.32755417956656346, 0.6724458204334365)"
     },
     "execution_count": 23,
     "metadata": {},
     "output_type": "execute_result"
    }
   ],
   "source": [
    "# Compute priors\n",
    "count0 = sum(y == 0 for y in y_train)\n",
    "count1 = sum(y == 1 for y in y_train)\n",
    "total = len(y_train)\n",
    "p0 = count0 / total\n",
    "p1 = count1 / total\n",
    "log_p0 = np.log(p0)\n",
    "log_p1 = np.log(p1)\n",
    "p0, p1"
   ],
   "metadata": {
    "collapsed": false,
    "ExecuteTime": {
     "end_time": "2024-07-11T12:52:23.667930Z",
     "start_time": "2024-07-11T12:52:23.660782Z"
    }
   },
   "id": "b33fc1183852f2af",
   "execution_count": 23
  },
  {
   "cell_type": "code",
   "outputs": [],
   "source": [
    "# Build classifier\n",
    "class Classifier:\n",
    "    def __init__(self, logAs, logpis, logpriors):\n",
    "        self.logAs = logAs\n",
    "        self.logpis = logpis\n",
    "        self.logpriors = logpriors\n",
    "        self.K = len(logpriors) # number of classes\n",
    "    \n",
    "    def _compute_log_likelihood(self, input_, class_):\n",
    "        log_A = self.logAs[class_]\n",
    "        log_pi = self.logpis[class_]\n",
    "        \n",
    "        last_idx = None\n",
    "        log_prob = 0\n",
    "        for idx in input_:\n",
    "            if last_idx is None:\n",
    "                log_prob += log_pi[idx]\n",
    "            else:\n",
    "                log_prob += log_A[last_idx, idx]\n",
    "            \n",
    "            # Update last index\n",
    "            last_idx = idx\n",
    "            \n",
    "        return log_prob\n",
    "    \n",
    "    def predict(self, inputs):\n",
    "        predictions = np.zeros(len(inputs))\n",
    "        for i, input_ in enumerate(inputs):\n",
    "            posteriors = [self._compute_log_likelihood(input_, c) + self.logpriors[c] \\\n",
    "            for c in range(self.K)]\n",
    "            pred = np.argmax(posteriors)\n",
    "            predictions[i] = pred\n",
    "        return predictions\n",
    "        \n",
    "              \n",
    "                \n",
    "            \n",
    "            "
   ],
   "metadata": {
    "collapsed": false,
    "ExecuteTime": {
     "end_time": "2024-07-11T12:54:00.901051Z",
     "start_time": "2024-07-11T12:54:00.893519Z"
    }
   },
   "id": "1c06256612c6197",
   "execution_count": 27
  },
  {
   "cell_type": "code",
   "outputs": [],
   "source": [
    "clf = Classifier([log_A0, log_A1], [log_pi0, log_pi1], [log_p0, log_p1])"
   ],
   "metadata": {
    "collapsed": false,
    "ExecuteTime": {
     "end_time": "2024-07-11T12:56:47.639848Z",
     "start_time": "2024-07-11T12:56:47.630499Z"
    }
   },
   "id": "5007e54ba265dd84",
   "execution_count": 30
  },
  {
   "cell_type": "code",
   "outputs": [
    {
     "name": "stdout",
     "output_type": "stream",
     "text": [
      "Train acc: 0.9962848297213622\n"
     ]
    }
   ],
   "source": [
    "p_train = clf.predict(train_text_int)\n",
    "print(f\"Train acc: {np.mean(p_train == y_train)}\")"
   ],
   "metadata": {
    "collapsed": false,
    "ExecuteTime": {
     "end_time": "2024-07-11T12:56:48.281214Z",
     "start_time": "2024-07-11T12:56:48.197690Z"
    }
   },
   "id": "c242744742116177",
   "execution_count": 31
  },
  {
   "cell_type": "code",
   "outputs": [
    {
     "name": "stdout",
     "output_type": "stream",
     "text": [
      "Test acc: 0.8237476808905381\n"
     ]
    }
   ],
   "source": [
    "p_test = clf.predict(test_text_int)\n",
    "print(f\"Test acc: {np.mean(p_test == y_test)}\")"
   ],
   "metadata": {
    "collapsed": false,
    "ExecuteTime": {
     "end_time": "2024-07-11T12:59:03.626400Z",
     "start_time": "2024-07-11T12:59:03.621977Z"
    }
   },
   "id": "317e0c970f301dfd",
   "execution_count": 32
  },
  {
   "cell_type": "code",
   "outputs": [
    {
     "data": {
      "text/plain": "array([[ 523,    6],\n       [   0, 1086]])"
     },
     "execution_count": 33,
     "metadata": {},
     "output_type": "execute_result"
    }
   ],
   "source": [
    "from sklearn.metrics import confusion_matrix, f1_score\n",
    "\n",
    "cm = confusion_matrix(y_train, p_train)\n",
    "cm"
   ],
   "metadata": {
    "collapsed": false,
    "ExecuteTime": {
     "end_time": "2024-07-11T12:59:38.261275Z",
     "start_time": "2024-07-11T12:59:38.247405Z"
    }
   },
   "id": "a61dfe98967955ae",
   "execution_count": 33
  },
  {
   "cell_type": "code",
   "outputs": [
    {
     "data": {
      "text/plain": "array([[102,  87],\n       [  8, 342]])"
     },
     "execution_count": 34,
     "metadata": {},
     "output_type": "execute_result"
    }
   ],
   "source": [
    "cm_test = confusion_matrix(y_test, p_test)\n",
    "cm_test"
   ],
   "metadata": {
    "collapsed": false,
    "ExecuteTime": {
     "end_time": "2024-07-11T13:00:37.711058Z",
     "start_time": "2024-07-11T13:00:37.692197Z"
    }
   },
   "id": "d4fea29f7e7fb9c7",
   "execution_count": 34
  },
  {
   "cell_type": "code",
   "outputs": [
    {
     "data": {
      "text/plain": "0.9972451790633609"
     },
     "execution_count": 35,
     "metadata": {},
     "output_type": "execute_result"
    }
   ],
   "source": [
    "f1_score(y_train, p_train)"
   ],
   "metadata": {
    "collapsed": false,
    "ExecuteTime": {
     "end_time": "2024-07-11T13:00:51.489200Z",
     "start_time": "2024-07-11T13:00:51.464753Z"
    }
   },
   "id": "c859e6c3dcd98b4a",
   "execution_count": 35
  },
  {
   "cell_type": "code",
   "outputs": [
    {
     "data": {
      "text/plain": "0.8780487804878049"
     },
     "execution_count": 36,
     "metadata": {},
     "output_type": "execute_result"
    }
   ],
   "source": [
    "f1_score(y_test, p_test)"
   ],
   "metadata": {
    "collapsed": false,
    "ExecuteTime": {
     "end_time": "2024-07-11T13:00:54.916778Z",
     "start_time": "2024-07-11T13:00:54.894610Z"
    }
   },
   "id": "c4c026380019c51",
   "execution_count": 36
  },
  {
   "cell_type": "code",
   "outputs": [],
   "source": [],
   "metadata": {
    "collapsed": false
   },
   "id": "a53e2c8823badfb"
  }
 ],
 "metadata": {
  "kernelspec": {
   "display_name": "Python 3",
   "language": "python",
   "name": "python3"
  },
  "language_info": {
   "codemirror_mode": {
    "name": "ipython",
    "version": 2
   },
   "file_extension": ".py",
   "mimetype": "text/x-python",
   "name": "python",
   "nbconvert_exporter": "python",
   "pygments_lexer": "ipython2",
   "version": "2.7.6"
  }
 },
 "nbformat": 4,
 "nbformat_minor": 5
}
