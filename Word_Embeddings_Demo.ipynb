{
 "cells": [
  {
   "cell_type": "code",
   "execution_count": 2,
   "id": "initial_id",
   "metadata": {
    "collapsed": true,
    "ExecuteTime": {
     "end_time": "2024-07-08T04:19:08.705603Z",
     "start_time": "2024-07-08T04:19:08.695887Z"
    }
   },
   "outputs": [
    {
     "name": "stdout",
     "output_type": "stream",
     "text": [
      "File already downloaded. \n"
     ]
    }
   ],
   "source": [
    "import os\n",
    "\n",
    "if not os.path.exists('GoogleNews-vectors-negative300.bin.gz'):\n",
    "    !wget -nc https://archive.org/download/google-news-vectors-negative-300.bin_202311/GoogleNews-vectors-negative300.bin.gz\n",
    "else:\n",
    "    print(\"File already downloaded. \")"
   ]
  },
  {
   "cell_type": "code",
   "outputs": [
    {
     "name": "stdout",
     "output_type": "stream",
     "text": [
      "File unzipped successfully.\n"
     ]
    }
   ],
   "source": [
    "import gzip\n",
    "import shutil\n",
    "import os\n",
    "\n",
    "file_path = 'GoogleNews-vectors-negative300.bin.gz'\n",
    "unzipped_file_path = 'GoogleNews-vectors-negative300.bin'\n",
    "\n",
    "if os.path.exists(file_path):\n",
    "    with gzip.open(file_path, 'rb') as f_in:\n",
    "        with open(unzipped_file_path, 'wb') as f_out:\n",
    "            shutil.copyfileobj(f_in, f_out)\n",
    "    print(\"File unzipped successfully.\")\n",
    "else:\n",
    "    print(\"File not found.\")"
   ],
   "metadata": {
    "collapsed": false,
    "ExecuteTime": {
     "end_time": "2024-07-08T04:19:17.547359Z",
     "start_time": "2024-07-08T04:19:08.707122Z"
    }
   },
   "id": "132c1f35e286e453",
   "execution_count": 3
  },
  {
   "cell_type": "code",
   "outputs": [],
   "source": [
    "from gensim.models import KeyedVectors\n",
    "\n",
    "word_vectors = KeyedVectors.load_word2vec_format(\n",
    "    unzipped_file_path,\n",
    "    binary=True\n",
    ")"
   ],
   "metadata": {
    "collapsed": false,
    "ExecuteTime": {
     "end_time": "2024-07-08T04:19:29.816369Z",
     "start_time": "2024-07-08T04:19:17.547580Z"
    }
   },
   "id": "495925ab159e5661",
   "execution_count": 4
  },
  {
   "cell_type": "code",
   "outputs": [],
   "source": [
    "def find_analogies(w1, w2, w3):\n",
    "    # w1 - w2 = ? - w3\n",
    "    # e.g.  king - man = x - woman\n",
    "    #       x = king + woman - man\n",
    "    r = word_vectors.most_similar(positive=[w1, w3], negative=[w2])\n",
    "    print (\"%s - %s = %s - %s\" % (w1, w2, r[0][0], w3))\n",
    "    "
   ],
   "metadata": {
    "collapsed": false,
    "ExecuteTime": {
     "end_time": "2024-07-08T04:42:52.396678Z",
     "start_time": "2024-07-08T04:42:52.392400Z"
    }
   },
   "id": "22104297e64ccb7a",
   "execution_count": 7
  },
  {
   "cell_type": "code",
   "outputs": [
    {
     "name": "stdout",
     "output_type": "stream",
     "text": [
      "king - man = queen - woman\n"
     ]
    }
   ],
   "source": [
    "find_analogies('king', 'man', 'woman')"
   ],
   "metadata": {
    "collapsed": false,
    "ExecuteTime": {
     "end_time": "2024-07-08T04:42:53.268006Z",
     "start_time": "2024-07-08T04:42:53.156565Z"
    }
   },
   "id": "2b2395791da48bb",
   "execution_count": 8
  },
  {
   "cell_type": "code",
   "outputs": [
    {
     "name": "stdout",
     "output_type": "stream",
     "text": [
      "france - paris = england - london\n"
     ]
    }
   ],
   "source": [
    "find_analogies('france', 'paris', 'london')"
   ],
   "metadata": {
    "collapsed": false,
    "ExecuteTime": {
     "end_time": "2024-07-08T04:50:45.162630Z",
     "start_time": "2024-07-08T04:50:44.662811Z"
    }
   },
   "id": "d4fbe069d398289",
   "execution_count": 9
  },
  {
   "cell_type": "code",
   "outputs": [
    {
     "name": "stdout",
     "output_type": "stream",
     "text": [
      "paris - france = dubai - london\n"
     ]
    }
   ],
   "source": [
    "find_analogies('paris', 'france', 'london')"
   ],
   "metadata": {
    "collapsed": false,
    "ExecuteTime": {
     "end_time": "2024-07-08T05:05:38.709643Z",
     "start_time": "2024-07-08T05:05:38.593938Z"
    }
   },
   "id": "af752a4e205508ae",
   "execution_count": 14
  },
  {
   "cell_type": "code",
   "outputs": [
    {
     "name": "stdout",
     "output_type": "stream",
     "text": [
      "france - french = england - english\n"
     ]
    }
   ],
   "source": [
    "find_analogies('france', 'french', 'english')"
   ],
   "metadata": {
    "collapsed": false,
    "ExecuteTime": {
     "end_time": "2024-07-08T05:06:29.486118Z",
     "start_time": "2024-07-08T05:06:29.366711Z"
    }
   },
   "id": "95927927341ca620",
   "execution_count": 15
  },
  {
   "cell_type": "code",
   "outputs": [
    {
     "name": "stdout",
     "output_type": "stream",
     "text": [
      "japan - japanese = tibet - chinese\n"
     ]
    }
   ],
   "source": [
    "find_analogies('japan', 'japanese', 'chinese')"
   ],
   "metadata": {
    "collapsed": false,
    "ExecuteTime": {
     "end_time": "2024-07-08T05:07:03.895753Z",
     "start_time": "2024-07-08T05:07:03.772884Z"
    }
   },
   "id": "8f11a409ca9a09b3",
   "execution_count": 17
  },
  {
   "cell_type": "code",
   "outputs": [
    {
     "name": "stdout",
     "output_type": "stream",
     "text": [
      "japan - japanese = italy - italian\n"
     ]
    }
   ],
   "source": [
    "find_analogies('japan', 'japanese', 'italian')"
   ],
   "metadata": {
    "collapsed": false,
    "ExecuteTime": {
     "end_time": "2024-07-08T05:06:49.016193Z",
     "start_time": "2024-07-08T05:06:48.895986Z"
    }
   },
   "id": "1beff8259b246a3",
   "execution_count": 16
  },
  {
   "cell_type": "code",
   "outputs": [
    {
     "name": "stdout",
     "output_type": "stream",
     "text": [
      "december - november = september - june\n"
     ]
    }
   ],
   "source": [
    "find_analogies('december', 'november', 'june')"
   ],
   "metadata": {
    "collapsed": false,
    "ExecuteTime": {
     "end_time": "2024-07-08T05:07:24.741334Z",
     "start_time": "2024-07-08T05:07:24.615957Z"
    }
   },
   "id": "93e876639d086df4",
   "execution_count": 18
  },
  {
   "cell_type": "code",
   "outputs": [
    {
     "name": "stdout",
     "output_type": "stream",
     "text": [
      "miami - florida = dallas - texas\n"
     ]
    }
   ],
   "source": [
    "find_analogies('miami', 'florida', 'texas')"
   ],
   "metadata": {
    "collapsed": false,
    "ExecuteTime": {
     "end_time": "2024-07-08T05:17:51.977137Z",
     "start_time": "2024-07-08T05:17:51.446660Z"
    }
   },
   "id": "b7f1fd3f0eb65e54",
   "execution_count": 19
  },
  {
   "cell_type": "code",
   "outputs": [
    {
     "name": "stdout",
     "output_type": "stream",
     "text": [
      "einstein - scientist = jude - painter\n"
     ]
    }
   ],
   "source": [
    "find_analogies('einstein', 'scientist', 'painter')"
   ],
   "metadata": {
    "collapsed": false,
    "ExecuteTime": {
     "end_time": "2024-07-08T05:18:08.507410Z",
     "start_time": "2024-07-08T05:18:08.374221Z"
    }
   },
   "id": "d073d788e42a8584",
   "execution_count": 20
  },
  {
   "cell_type": "code",
   "outputs": [
    {
     "name": "stdout",
     "output_type": "stream",
     "text": [
      "man - woman = he - she\n"
     ]
    }
   ],
   "source": [
    "find_analogies('man', 'woman', 'she')"
   ],
   "metadata": {
    "collapsed": false,
    "ExecuteTime": {
     "end_time": "2024-07-08T05:18:59.289165Z",
     "start_time": "2024-07-08T05:18:59.166323Z"
    }
   },
   "id": "d5113189afa5b5c1",
   "execution_count": 21
  },
  {
   "cell_type": "code",
   "outputs": [
    {
     "name": "stdout",
     "output_type": "stream",
     "text": [
      "man - woman = uncle - aunt\n"
     ]
    }
   ],
   "source": [
    "find_analogies('man', 'woman', 'aunt')"
   ],
   "metadata": {
    "collapsed": false,
    "ExecuteTime": {
     "end_time": "2024-07-08T05:19:22.920527Z",
     "start_time": "2024-07-08T05:19:22.802865Z"
    }
   },
   "id": "6d271d13c2171b37",
   "execution_count": 22
  },
  {
   "cell_type": "code",
   "outputs": [
    {
     "name": "stdout",
     "output_type": "stream",
     "text": [
      "man - woman = brother - sister\n"
     ]
    }
   ],
   "source": [
    "find_analogies('man', 'woman', 'sister')"
   ],
   "metadata": {
    "collapsed": false,
    "ExecuteTime": {
     "end_time": "2024-07-08T06:08:28.862412Z",
     "start_time": "2024-07-08T06:08:28.389230Z"
    }
   },
   "id": "b395523cc9892752",
   "execution_count": 23
  },
  {
   "cell_type": "code",
   "outputs": [
    {
     "name": "stdout",
     "output_type": "stream",
     "text": [
      "man - woman = son - wife\n"
     ]
    }
   ],
   "source": [
    "find_analogies('man', 'woman', 'wife')"
   ],
   "metadata": {
    "collapsed": false,
    "ExecuteTime": {
     "end_time": "2024-07-08T06:08:45.839327Z",
     "start_time": "2024-07-08T06:08:45.713610Z"
    }
   },
   "id": "372ad62050d6f69f",
   "execution_count": 24
  },
  {
   "cell_type": "code",
   "outputs": [
    {
     "name": "stdout",
     "output_type": "stream",
     "text": [
      "man - woman = actor - actress\n"
     ]
    }
   ],
   "source": [
    "find_analogies('man', 'woman', 'actress')"
   ],
   "metadata": {
    "collapsed": false,
    "ExecuteTime": {
     "end_time": "2024-07-08T06:10:48.097619Z",
     "start_time": "2024-07-08T06:10:47.945075Z"
    }
   },
   "id": "dd223d875e69cfa9",
   "execution_count": 25
  },
  {
   "cell_type": "code",
   "outputs": [
    {
     "name": "stdout",
     "output_type": "stream",
     "text": [
      "man - woman = father - mother\n"
     ]
    }
   ],
   "source": [
    "find_analogies('man', 'woman', 'mother')"
   ],
   "metadata": {
    "collapsed": false,
    "ExecuteTime": {
     "end_time": "2024-07-08T06:10:59.497070Z",
     "start_time": "2024-07-08T06:10:59.358829Z"
    }
   },
   "id": "4a9cbca0381b4d55",
   "execution_count": 26
  },
  {
   "cell_type": "code",
   "outputs": [
    {
     "name": "stdout",
     "output_type": "stream",
     "text": [
      "nephew - niece = uncle - aunt\n"
     ]
    }
   ],
   "source": [
    "find_analogies('nephew', 'niece', 'aunt')"
   ],
   "metadata": {
    "collapsed": false,
    "ExecuteTime": {
     "end_time": "2024-07-08T06:11:25.153981Z",
     "start_time": "2024-07-08T06:11:25.029188Z"
    }
   },
   "id": "8cbb51cbd97f84c0",
   "execution_count": 27
  },
  {
   "cell_type": "code",
   "outputs": [],
   "source": [
    "def nearest_neighbors(w):\n",
    "    r = word_vectors.most_similar(positive=[w])\n",
    "    print(\"neighbors of: %s\" % w)\n",
    "    for word, score in r:\n",
    "        print(\"\\t%s: %s\" % (word, score))"
   ],
   "metadata": {
    "collapsed": false,
    "ExecuteTime": {
     "end_time": "2024-07-08T06:12:55.187772Z",
     "start_time": "2024-07-08T06:12:55.182724Z"
    }
   },
   "id": "1bfcd235b1fe7773",
   "execution_count": 30
  },
  {
   "cell_type": "code",
   "outputs": [
    {
     "name": "stdout",
     "output_type": "stream",
     "text": [
      "neighbors of: king\n",
      "\tkings: 0.7138046622276306\n",
      "\tqueen: 0.6510956287384033\n",
      "\tmonarch: 0.6413194537162781\n",
      "\tcrown_prince: 0.6204219460487366\n",
      "\tprince: 0.6159993410110474\n",
      "\tsultan: 0.5864824056625366\n",
      "\truler: 0.5797566771507263\n",
      "\tprinces: 0.5646552443504333\n",
      "\tPrince_Paras: 0.5432944297790527\n",
      "\tthrone: 0.5422105193138123\n"
     ]
    }
   ],
   "source": [
    "nearest_neighbors('king')"
   ],
   "metadata": {
    "collapsed": false,
    "ExecuteTime": {
     "end_time": "2024-07-08T06:13:01.317151Z",
     "start_time": "2024-07-08T06:13:00.978073Z"
    }
   },
   "id": "190f4838729966b",
   "execution_count": 31
  },
  {
   "cell_type": "code",
   "outputs": [
    {
     "name": "stdout",
     "output_type": "stream",
     "text": [
      "neighbors of: france\n",
      "\tspain: 0.6375304460525513\n",
      "\tfrench: 0.6326055526733398\n",
      "\tgermany: 0.6314354538917542\n",
      "\teurope: 0.6264256238937378\n",
      "\titaly: 0.6257959008216858\n",
      "\tengland: 0.6120775938034058\n",
      "\teuropean: 0.6074905395507812\n",
      "\tbelgium: 0.5972346067428589\n",
      "\tusa: 0.5948354601860046\n",
      "\tserbia: 0.5805614590644836\n"
     ]
    }
   ],
   "source": [
    "nearest_neighbors('france')"
   ],
   "metadata": {
    "collapsed": false,
    "ExecuteTime": {
     "end_time": "2024-07-08T06:14:05.285118Z",
     "start_time": "2024-07-08T06:14:05.159825Z"
    }
   },
   "id": "df31a0e5616e6199",
   "execution_count": 32
  },
  {
   "cell_type": "code",
   "outputs": [
    {
     "name": "stdout",
     "output_type": "stream",
     "text": [
      "neighbors of: japan\n",
      "\tjapanese: 0.6607722043991089\n",
      "\ttokyo: 0.6265655755996704\n",
      "\tamerica: 0.6033485531806946\n",
      "\teurope: 0.5962790250778198\n",
      "\tgermany: 0.5782293081283569\n",
      "\tchinese: 0.5763071179389954\n",
      "\tindia: 0.5745143294334412\n",
      "\thawaii: 0.5731386542320251\n",
      "\tusa: 0.5680993795394897\n",
      "\tkorea: 0.5648358464241028\n"
     ]
    }
   ],
   "source": [
    "nearest_neighbors('japan')"
   ],
   "metadata": {
    "collapsed": false,
    "ExecuteTime": {
     "end_time": "2024-07-08T06:16:55.058852Z",
     "start_time": "2024-07-08T06:16:54.922757Z"
    }
   },
   "id": "b9239b9e5bb3544",
   "execution_count": 33
  },
  {
   "cell_type": "code",
   "outputs": [
    {
     "name": "stdout",
     "output_type": "stream",
     "text": [
      "neighbors of: obama\n",
      "\tmccain: 0.731901228427887\n",
      "\thillary: 0.7284600138664246\n",
      "\tobamas: 0.7229631543159485\n",
      "\tgeorge_bush: 0.7205674648284912\n",
      "\tbarack_obama: 0.7045838832855225\n",
      "\tpalin: 0.7043113708496094\n",
      "\tclinton: 0.6934448480606079\n",
      "\tclintons: 0.6816834807395935\n",
      "\tsarah_palin: 0.6815145015716553\n",
      "\tjohn_mccain: 0.6800708174705505\n"
     ]
    }
   ],
   "source": [
    "nearest_neighbors('obama')"
   ],
   "metadata": {
    "collapsed": false,
    "ExecuteTime": {
     "end_time": "2024-07-08T06:17:20.301973Z",
     "start_time": "2024-07-08T06:17:20.194066Z"
    }
   },
   "id": "1870596e29158eca",
   "execution_count": 37
  },
  {
   "cell_type": "code",
   "outputs": [
    {
     "name": "stdout",
     "output_type": "stream",
     "text": [
      "neighbors of: woman\n",
      "\tman: 0.7664012908935547\n",
      "\tgirl: 0.7494640946388245\n",
      "\tteenage_girl: 0.7336829900741577\n",
      "\tteenager: 0.631708562374115\n",
      "\tlady: 0.6288785934448242\n",
      "\tteenaged_girl: 0.6141783595085144\n",
      "\tmother: 0.6076306104660034\n",
      "\tpolicewoman: 0.6069462895393372\n",
      "\tboy: 0.5975909233093262\n",
      "\tWoman: 0.5770983099937439\n"
     ]
    }
   ],
   "source": [
    "nearest_neighbors('woman')"
   ],
   "metadata": {
    "collapsed": false,
    "ExecuteTime": {
     "end_time": "2024-07-08T06:17:30.866688Z",
     "start_time": "2024-07-08T06:17:30.735900Z"
    }
   },
   "id": "fdfb58ad1e66e9ea",
   "execution_count": 38
  },
  {
   "cell_type": "code",
   "outputs": [
    {
     "name": "stdout",
     "output_type": "stream",
     "text": [
      "neighbors of: einstein\n",
      "\tnikki: 0.6422513127326965\n",
      "\tlmfao: 0.6384349465370178\n",
      "\talbert: 0.6382647752761841\n",
      "\tarmstrong: 0.6376888155937195\n",
      "\tjoan: 0.6352934241294861\n",
      "\tbecky: 0.6350681781768799\n",
      "\tmcmahon: 0.6327165961265564\n",
      "\tconrad: 0.6323715448379517\n",
      "\tlori: 0.6315867900848389\n",
      "\thaley: 0.6313753724098206\n"
     ]
    }
   ],
   "source": [
    "nearest_neighbors('einstein')"
   ],
   "metadata": {
    "collapsed": false,
    "ExecuteTime": {
     "end_time": "2024-07-08T06:17:37.903607Z",
     "start_time": "2024-07-08T06:17:37.794303Z"
    }
   },
   "id": "3f2c935ba219f6ac",
   "execution_count": 39
  },
  {
   "cell_type": "code",
   "outputs": [
    {
     "name": "stdout",
     "output_type": "stream",
     "text": [
      "neighbors of: nephew\n",
      "\tson: 0.8531849384307861\n",
      "\tuncle: 0.848660945892334\n",
      "\tbrother: 0.8305360078811646\n",
      "\tgrandson: 0.8117087483406067\n",
      "\tcousin: 0.7881882786750793\n",
      "\tfather: 0.788079023361206\n",
      "\tniece: 0.7594367861747742\n",
      "\tyounger_brother: 0.7507295608520508\n",
      "\tnephews: 0.7137833833694458\n",
      "\tstepson: 0.7082182765007019\n"
     ]
    }
   ],
   "source": [
    "nearest_neighbors('nephew')"
   ],
   "metadata": {
    "collapsed": false,
    "ExecuteTime": {
     "end_time": "2024-07-08T06:17:56.129463Z",
     "start_time": "2024-07-08T06:17:55.938001Z"
    }
   },
   "id": "e38a2822f491ecc9",
   "execution_count": 40
  },
  {
   "cell_type": "code",
   "outputs": [
    {
     "name": "stdout",
     "output_type": "stream",
     "text": [
      "neighbors of: february\n",
      "\tjanuary: 0.7155449390411377\n",
      "\tapril: 0.7115830779075623\n",
      "\tseptember: 0.6933045387268066\n",
      "\tdecember: 0.6915465593338013\n",
      "\tjuly: 0.6896472573280334\n",
      "\toctober: 0.66875159740448\n",
      "\tnovember: 0.643345057964325\n",
      "\tjune: 0.623824417591095\n",
      "\tfeb: 0.605460524559021\n",
      "\tnorway: 0.5665178894996643\n"
     ]
    }
   ],
   "source": [
    "nearest_neighbors('february')"
   ],
   "metadata": {
    "collapsed": false,
    "ExecuteTime": {
     "end_time": "2024-07-08T06:18:16.436902Z",
     "start_time": "2024-07-08T06:18:16.318274Z"
    }
   },
   "id": "c1f6fb3aed4bc03f",
   "execution_count": 41
  },
  {
   "cell_type": "code",
   "outputs": [],
   "source": [],
   "metadata": {
    "collapsed": false
   },
   "id": "739eefd8e90ac92e"
  },
  {
   "cell_type": "code",
   "outputs": [],
   "source": [],
   "metadata": {
    "collapsed": false
   },
   "id": "3f68f6e65bc88612"
  }
 ],
 "metadata": {
  "kernelspec": {
   "display_name": "Python 3",
   "language": "python",
   "name": "python3"
  },
  "language_info": {
   "codemirror_mode": {
    "name": "ipython",
    "version": 2
   },
   "file_extension": ".py",
   "mimetype": "text/x-python",
   "name": "python",
   "nbconvert_exporter": "python",
   "pygments_lexer": "ipython2",
   "version": "2.7.6"
  }
 },
 "nbformat": 4,
 "nbformat_minor": 5
}
